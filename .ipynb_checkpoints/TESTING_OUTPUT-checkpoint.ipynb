{
 "cells": [
  {
   "cell_type": "code",
   "execution_count": 2,
   "metadata": {},
   "outputs": [
    {
     "name": "stdout",
     "output_type": "stream",
     "text": [
      "Requirement already satisfied: pandas in /Users/hungphuc/opt/anaconda3/lib/python3.8/site-packages (1.1.3)\n",
      "Requirement already satisfied: scipy in /Users/hungphuc/opt/anaconda3/lib/python3.8/site-packages (1.5.2)\n",
      "Requirement already satisfied: matplotlib in /Users/hungphuc/opt/anaconda3/lib/python3.8/site-packages (3.3.2)\n",
      "Requirement already satisfied: scikit-learn in /Users/hungphuc/opt/anaconda3/lib/python3.8/site-packages (0.23.2)\n",
      "Collecting tabulate\n",
      "  Downloading tabulate-0.9.0-py3-none-any.whl (35 kB)\n",
      "Requirement already satisfied: python-dateutil>=2.7.3 in /Users/hungphuc/opt/anaconda3/lib/python3.8/site-packages (from pandas) (2.8.1)\n",
      "Requirement already satisfied: pytz>=2017.2 in /Users/hungphuc/opt/anaconda3/lib/python3.8/site-packages (from pandas) (2020.1)\n",
      "Requirement already satisfied: numpy>=1.15.4 in /Users/hungphuc/opt/anaconda3/lib/python3.8/site-packages (from pandas) (1.19.2)\n",
      "Requirement already satisfied: kiwisolver>=1.0.1 in /Users/hungphuc/opt/anaconda3/lib/python3.8/site-packages (from matplotlib) (1.3.0)\n",
      "Requirement already satisfied: pillow>=6.2.0 in /Users/hungphuc/opt/anaconda3/lib/python3.8/site-packages (from matplotlib) (8.0.1)\n",
      "Requirement already satisfied: pyparsing!=2.0.4,!=2.1.2,!=2.1.6,>=2.0.3 in /Users/hungphuc/opt/anaconda3/lib/python3.8/site-packages (from matplotlib) (2.4.7)\n",
      "Requirement already satisfied: cycler>=0.10 in /Users/hungphuc/opt/anaconda3/lib/python3.8/site-packages (from matplotlib) (0.10.0)\n",
      "Requirement already satisfied: certifi>=2020.06.20 in /Users/hungphuc/opt/anaconda3/lib/python3.8/site-packages (from matplotlib) (2020.6.20)\n",
      "Requirement already satisfied: joblib>=0.11 in /Users/hungphuc/opt/anaconda3/lib/python3.8/site-packages (from scikit-learn) (0.17.0)\n",
      "Requirement already satisfied: threadpoolctl>=2.0.0 in /Users/hungphuc/opt/anaconda3/lib/python3.8/site-packages (from scikit-learn) (2.1.0)\n",
      "Requirement already satisfied: six in /Users/hungphuc/opt/anaconda3/lib/python3.8/site-packages (from cycler>=0.10->matplotlib) (1.15.0)\n",
      "Installing collected packages: tabulate\n",
      "Successfully installed tabulate-0.9.0\n",
      "\u001b[33mWARNING: There was an error checking the latest version of pip.\u001b[0m\u001b[33m\n",
      "\u001b[0m"
     ]
    }
   ],
   "source": [
    "!pip install pandas scipy matplotlib scikit-learn tabulate"
   ]
  },
  {
   "cell_type": "code",
   "execution_count": 1,
   "metadata": {},
   "outputs": [],
   "source": [
    "# Prepares cleaned data from Data_vancomycin.xlsx by\n",
    "## Renaming columns.\n",
    "## Converting times.\n",
    "## Saving to output.csv.\n",
    "### We have to transform the original data to get the right parameters for the model.\n",
    "### This file generates a file as sample.xlsx using for testing the main file.\n",
    "\n",
    "%run createExcel.py\n"
   ]
  },
  {
   "cell_type": "code",
   "execution_count": 5,
   "metadata": {},
   "outputs": [
    {
     "name": "stdout",
     "output_type": "stream",
     "text": [
      "                                                Value\n",
      "Age (years)                               71.6 ± 10.3\n",
      "Male                                       48 (55.2%)\n",
      "Female                                     39 (44.8%)\n",
      "BMI (kg/m2)                                22.4 ± 3.4\n",
      "Diabetes                                   13 (14.9%)\n",
      "Hypertension                               21 (24.1%)\n",
      "Heart Failure                                0 (0.0%)\n",
      "Kidney Failure                               3 (3.4%)\n",
      "Other Diseases                             22 (25.3%)\n",
      "Samples                                            87\n",
      "Unique Patients                                    25\n",
      "Vancomycin Serum Concentration (mg/L)  1055.6 ± 160.1\n",
      "Creatinine (SCr)(mg/dL)                  102.9 ± 45.7\n",
      "Creatinine Clearance (mL/min)               0.6 ± 0.2\n"
     ]
    }
   ],
   "source": [
    "#Summarizes the population data:\n",
    "## Age, Gender, BMI, Comorbidities, Lab values (Scr, Clcr, BUN, etc.)\n",
    "### This code is running for a statistic from the original data\n",
    "%run generalData.py"
   ]
  },
  {
   "cell_type": "code",
   "execution_count": null,
   "metadata": {},
   "outputs": [],
   "source": [
    "### Using sample data to create the pharmacokinesis model\n",
    "### Checking the createExel file to modify and choose the right parameters for this file.\n",
    "%run main.py"
   ]
  },
  {
   "cell_type": "code",
   "execution_count": null,
   "metadata": {},
   "outputs": [],
   "source": []
  }
 ],
 "metadata": {
  "kernelspec": {
   "display_name": "Python 3",
   "language": "python",
   "name": "python3"
  },
  "language_info": {
   "codemirror_mode": {
    "name": "ipython",
    "version": 3
   },
   "file_extension": ".py",
   "mimetype": "text/x-python",
   "name": "python",
   "nbconvert_exporter": "python",
   "pygments_lexer": "ipython3",
   "version": "3.8.5"
  }
 },
 "nbformat": 4,
 "nbformat_minor": 4
}
